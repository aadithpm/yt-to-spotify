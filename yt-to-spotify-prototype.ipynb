{
 "cells": [
  {
   "cell_type": "markdown",
   "metadata": {},
   "source": [
    "### Exporting keys"
   ]
  },
  {
   "cell_type": "code",
   "execution_count": 29,
   "metadata": {},
   "outputs": [],
   "source": [
    "import configparser\n",
    "import os"
   ]
  },
  {
   "cell_type": "code",
   "execution_count": 30,
   "metadata": {},
   "outputs": [],
   "source": [
    "config_file = 'keys.cfg'"
   ]
  },
  {
   "cell_type": "code",
   "execution_count": 31,
   "metadata": {},
   "outputs": [
    {
     "data": {
      "text/plain": [
       "['keys.cfg']"
      ]
     },
     "execution_count": 31,
     "metadata": {},
     "output_type": "execute_result"
    }
   ],
   "source": [
    "config = configparser.ConfigParser()\n",
    "config.read(config_file)"
   ]
  },
  {
   "cell_type": "code",
   "execution_count": 118,
   "metadata": {},
   "outputs": [],
   "source": [
    "os.environ['SPOTIPY_CLIENT_ID'] = config['SPOTIFY']['CLIENT_ID']\n",
    "os.environ['SPOTIPY_CLIENT_SECRET'] = config['SPOTIFY']['CLIENT_SECRET']\n",
    "os.environ['SPOTIPY_REDIRECT_URI'] = 'https://ca416ba83b7c.ngrok.io'"
   ]
  },
  {
   "cell_type": "markdown",
   "metadata": {},
   "source": [
    "### Spotify searching"
   ]
  },
  {
   "cell_type": "markdown",
   "metadata": {},
   "source": [
    "#### Workaround for getting an OAuth 2.0 access and refresh token\n",
    "\n",
    "* Write a simple server application that listens on a port\n",
    "* Use `ngrok` to tunnel requests to that port\n",
    "* Set `ngrok` URL as the redirect URI on Spotify API Dashboard\n",
    "* Use the code returned to get access and refresh tokens"
   ]
  },
  {
   "cell_type": "code",
   "execution_count": 78,
   "metadata": {},
   "outputs": [],
   "source": [
    "import spotipy\n",
    "from spotipy.oauth2 import SpotifyClientCredentials\n",
    "\n",
    "class SpotifySearch:\n",
    "    def __init__(self):\n",
    "        self.spotipy = spotipy.Spotify(auth_manager=SpotifyClientCredentials())\n",
    "    \n",
    "    def search(self, search_query):\n",
    "        \"\"\"\n",
    "        Search through Spotify search API and return results\n",
    "        \"\"\"\n",
    "        return self.spotipy.search(search_query)\n",
    "\n",
    "    def get_first_track(self,search_query):\n",
    "        results = self.search(search_query)\n",
    "        res = {}\n",
    "        if len(results) > 0:\n",
    "            try:\n",
    "                first = results['tracks']['items'][0]\n",
    "                res['url'] = first['external_urls']['spotify']\n",
    "                res['api_url'] = first['href']\n",
    "                res['uri'] = first['uri']\n",
    "            except KeyError as e:\n",
    "                print(f'[error] URLs/URIs not found for {search_query}')\n",
    "        return res\n"
   ]
  },
  {
   "cell_type": "code",
   "execution_count": 77,
   "metadata": {},
   "outputs": [
    {
     "data": {
      "text/plain": [
       "{'url': 'https://open.spotify.com/track/0UwQTbq7ZtBJ7v530mpaxP',\n",
       " 'api_url': 'https://api.spotify.com/v1/tracks/0UwQTbq7ZtBJ7v530mpaxP',\n",
       " 'uri': 'spotify:track:0UwQTbq7ZtBJ7v530mpaxP'}"
      ]
     },
     "execution_count": 77,
     "metadata": {},
     "output_type": "execute_result"
    }
   ],
   "source": [
    "spotify = SpotifySearch()\n",
    "spotify.get_first_track('bts stay gold')"
   ]
  },
  {
   "cell_type": "code",
   "execution_count": 125,
   "metadata": {},
   "outputs": [
    {
     "data": {
      "text/plain": [
       "{'access_token': 'BQAzO84UpJKsO9kyNEHfiFd-rjXbOtpqQd3hKbe0rrfpMbNKyEPthSbwGDN0SYGLKR70m-FubBozW7pyzFsr62pc1huR4Z8fy-o70yuBr-1_x69XZbT54s0CsVW3tR7EUG3IM5zm0Q7oOdS0PkCf38r9te8ZWlKMN2Ufksg3JaiCUryB',\n",
       " 'token_type': 'Bearer',\n",
       " 'expires_in': 3600,\n",
       " 'scope': 'user-library-read',\n",
       " 'expires_at': 1596584143,\n",
       " 'refresh_token': 'AQCrAQD7i8K7OKXc3iqhlSqL_CizKcXV85VawgHolGD9zF6KL0h3SDUVy6qawvziouzTHaRAOYF_qxjqeGD-zarXJ0HqA9tv4MAPAju-_97CXyJHfJoE-_gw9OA3UJmDlzk'}"
      ]
     },
     "execution_count": 125,
     "metadata": {},
     "output_type": "execute_result"
    }
   ],
   "source": [
    "from spotipy.oauth2 import SpotifyOAuth\n",
    "\n",
    "scope = 'user-library-read'\n",
    "\n",
    "creds = SpotifyOAuth(scope=scope, username='aadithpm')\n",
    "creds.refresh_access_token(refresh_token='AQCrAQD7i8K7OKXc3iqhlSqL_CizKcXV85VawgHolGD9zF6KL0h3SDUVy6qawvziouzTHaRAOYF_qxjqeGD-zarXJ0HqA9tv4MAPAju-_97CXyJHfJoE-_gw9OA3UJmDlzk')"
   ]
  }
 ],
 "metadata": {
  "kernelspec": {
   "display_name": "Python 3",
   "language": "python",
   "name": "python3"
  },
  "language_info": {
   "codemirror_mode": {
    "name": "ipython",
    "version": 3
   },
   "file_extension": ".py",
   "mimetype": "text/x-python",
   "name": "python",
   "nbconvert_exporter": "python",
   "pygments_lexer": "ipython3",
   "version": "3.7.3"
  }
 },
 "nbformat": 4,
 "nbformat_minor": 2
}
