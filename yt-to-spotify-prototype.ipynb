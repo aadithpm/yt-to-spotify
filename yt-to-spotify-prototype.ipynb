{
 "cells": [
  {
   "cell_type": "markdown",
   "metadata": {},
   "source": [
    "### Exporting keys"
   ]
  },
  {
   "cell_type": "code",
   "execution_count": 29,
   "metadata": {},
   "outputs": [],
   "source": [
    "import configparser\n",
    "import os"
   ]
  },
  {
   "cell_type": "code",
   "execution_count": 30,
   "metadata": {},
   "outputs": [],
   "source": [
    "config_file = 'keys.cfg'"
   ]
  },
  {
   "cell_type": "code",
   "execution_count": 31,
   "metadata": {},
   "outputs": [
    {
     "data": {
      "text/plain": [
       "['keys.cfg']"
      ]
     },
     "execution_count": 31,
     "metadata": {},
     "output_type": "execute_result"
    }
   ],
   "source": [
    "config = configparser.ConfigParser()\n",
    "config.read(config_file)"
   ]
  },
  {
   "cell_type": "code",
   "execution_count": 32,
   "metadata": {},
   "outputs": [],
   "source": [
    "os.environ['SPOTIPY_CLIENT_ID'] = config['SPOTIFY']['CLIENT_ID']\n",
    "os.environ['SPOTIPY_CLIENT_SECRET'] = config['SPOTIFY']['CLIENT_SECRET']"
   ]
  },
  {
   "cell_type": "markdown",
   "metadata": {},
   "source": [
    "### Spotify searching"
   ]
  },
  {
   "cell_type": "code",
   "execution_count": 75,
   "metadata": {},
   "outputs": [],
   "source": [
    "import spotipy\n",
    "from spotipy.oauth2 import SpotifyClientCredentials\n",
    "\n",
    "class SpotifySearch:\n",
    "    def __init__(self):\n",
    "        self.spotipy = spotipy.Spotify(auth_manager=SpotifyClientCredentials())\n",
    "    \n",
    "    def search(self, search_query):\n",
    "        \"\"\"\n",
    "        Search through Spotify search API and return results\n",
    "        \"\"\"\n",
    "        return self.spotipy.search(search_query)\n",
    "\n",
    "    def get_first_track(self,search_query):\n",
    "        results = self.search(search_query)\n",
    "        res = {}\n",
    "        if len(results) > 0:\n",
    "            try:\n",
    "                first = results['tracks']['items'][0]\n",
    "                res['url'] = first['external_urls']['spotify']\n",
    "                res['api_url'] = first['href']\n",
    "                res['uri'] = first['uri']\n",
    "            except KeyError as e:\n",
    "                print(f'[error] URLs/URIs not found for {search_query}')\n",
    "        return res"
   ]
  },
  {
   "cell_type": "code",
   "execution_count": 77,
   "metadata": {},
   "outputs": [
    {
     "data": {
      "text/plain": [
       "{'url': 'https://open.spotify.com/track/0UwQTbq7ZtBJ7v530mpaxP',\n",
       " 'api_url': 'https://api.spotify.com/v1/tracks/0UwQTbq7ZtBJ7v530mpaxP',\n",
       " 'uri': 'spotify:track:0UwQTbq7ZtBJ7v530mpaxP'}"
      ]
     },
     "execution_count": 77,
     "metadata": {},
     "output_type": "execute_result"
    }
   ],
   "source": [
    "spotify = SpotifySearch()\n",
    "spotify.get_first_track('bts stay gold')"
   ]
  }
 ],
 "metadata": {
  "kernelspec": {
   "display_name": "Python 3",
   "language": "python",
   "name": "python3"
  },
  "language_info": {
   "codemirror_mode": {
    "name": "ipython",
    "version": 3
   },
   "file_extension": ".py",
   "mimetype": "text/x-python",
   "name": "python",
   "nbconvert_exporter": "python",
   "pygments_lexer": "ipython3",
   "version": "3.7.3"
  }
 },
 "nbformat": 4,
 "nbformat_minor": 2
}
