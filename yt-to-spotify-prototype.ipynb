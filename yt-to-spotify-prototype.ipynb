{
 "cells": [
  {
   "cell_type": "markdown",
   "metadata": {},
   "source": [
    "### Exporting keys"
   ]
  },
  {
   "cell_type": "code",
   "execution_count": 29,
   "metadata": {},
   "outputs": [],
   "source": [
    "import configparser\n",
    "import os"
   ]
  },
  {
   "cell_type": "code",
   "execution_count": 30,
   "metadata": {},
   "outputs": [],
   "source": [
    "config_file = 'keys.cfg'"
   ]
  },
  {
   "cell_type": "code",
   "execution_count": 164,
   "metadata": {},
   "outputs": [
    {
     "data": {
      "text/plain": [
       "['keys.cfg']"
      ]
     },
     "execution_count": 164,
     "metadata": {},
     "output_type": "execute_result"
    }
   ],
   "source": [
    "config = configparser.ConfigParser()\n",
    "config.read(config_file)"
   ]
  },
  {
   "cell_type": "code",
   "execution_count": 167,
   "metadata": {},
   "outputs": [],
   "source": [
    "os.environ['SPOTIPY_CLIENT_ID'] = config['SPOTIFY']['CLIENT_ID']\n",
    "os.environ['SPOTIPY_CLIENT_SECRET'] = config['SPOTIFY']['CLIENT_SECRET']\n",
    "os.environ['SPOTIPY_REDIRECT_URI'] = 'https://5e318e279fe5.ngrok.io'\n",
    "\n",
    "# NOTE: this is a hacky workaround since this is just an application for private use. Not a best practise\n",
    "os.environ['OAUTH_CODE'] = config['SPOTIFY']['OAUTH_CODE']"
   ]
  },
  {
   "cell_type": "markdown",
   "metadata": {},
   "source": [
    "### Spotify searching"
   ]
  },
  {
   "cell_type": "markdown",
   "metadata": {},
   "source": [
    "#### Workaround for getting an OAuth 2.0 access and refresh token\n",
    "\n",
    "* Write a simple server application that listens on a port\n",
    "* Use `ngrok` to tunnel requests to that port\n",
    "* Set `ngrok` URL as the redirect URI on Spotify API Dashboard\n",
    "* Use the code returned to get access and refresh tokens"
   ]
  },
  {
   "cell_type": "code",
   "execution_count": 215,
   "metadata": {},
   "outputs": [],
   "source": [
    "import spotipy\n",
    "from spotipy.oauth2 import SpotifyClientCredentials\n",
    "\n",
    "class SpotifySearch:\n",
    "    def __init__(self, creds=None):\n",
    "        self.spotipy = spotipy.Spotify(auth_manager=SpotifyClientCredentials())\n",
    "        if creds:\n",
    "            self.spotipy = spotipy.Spotify(auth_manager=creds)\n",
    "    \n",
    "    def search(self, search_query):\n",
    "        \"\"\"\n",
    "        Search through Spotify search API and return results\n",
    "        \"\"\"\n",
    "        return self.spotipy.search(search_query)\n",
    "\n",
    "    def get_first_track(self, search_query):\n",
    "        results = self.search(search_query)\n",
    "        res = {}\n",
    "        if len(results) > 0:\n",
    "            try:\n",
    "                first = results['tracks']['items'][0]\n",
    "                res['url'] = first['external_urls']['spotify']\n",
    "                res['api_url'] = first['href']\n",
    "                res['uri'] = first['uri']\n",
    "            except KeyError as e:\n",
    "                print(f'[error] URLs/URIs not found for {search_query}')\n",
    "        return res\n",
    "\n",
    "    def get_playlist(self, playlist_name):\n",
    "        playlists = self.spotipy.current_user_playlists()['items']\n",
    "        username = self.spotipy.me()['display_name']\n",
    "        \n",
    "        playlist_store = {}\n",
    "        for playlist in playlists:\n",
    "            if playlist['name'] == playlist_name and playlist['owner']['display_name'] == username:\n",
    "                playlist_store = playlist\n",
    "                break\n",
    "        \n",
    "        if len(playlist_store) > 0:\n",
    "            return {\n",
    "                'id': playlist_store['id'],\n",
    "                'name': playlist_store['name'],\n",
    "                'uri': playlist_store['uri'],\n",
    "            }\n",
    "\n",
    "        return {}"
   ]
  },
  {
   "cell_type": "code",
   "execution_count": 216,
   "metadata": {},
   "outputs": [
    {
     "data": {
      "text/plain": [
       "{'url': 'https://open.spotify.com/track/0UwQTbq7ZtBJ7v530mpaxP',\n",
       " 'api_url': 'https://api.spotify.com/v1/tracks/0UwQTbq7ZtBJ7v530mpaxP',\n",
       " 'uri': 'spotify:track:0UwQTbq7ZtBJ7v530mpaxP'}"
      ]
     },
     "execution_count": 216,
     "metadata": {},
     "output_type": "execute_result"
    }
   ],
   "source": [
    "spotify = SpotifySearch()\n",
    "spotify.get_first_track('bts stay gold')"
   ]
  },
  {
   "cell_type": "code",
   "execution_count": null,
   "metadata": {},
   "outputs": [],
   "source": [
    "scopes = [\n",
    "    'playlist-modify-public', 'playlist-modify-private',\n",
    "    'playlist-read-collaborative', 'playlist-read-private',\n",
    "    'user-library-read', 'user-library-modify'\n",
    "]\n",
    "scope = ' '.join(scopes)\n",
    "scope"
   ]
  },
  {
   "cell_type": "code",
   "execution_count": 188,
   "metadata": {},
   "outputs": [],
   "source": [
    "from spotipy.oauth2 import SpotifyOAuth\n",
    "oauth_creds = SpotifyOAuth(scope=scope, username='aadithpm')"
   ]
  },
  {
   "cell_type": "code",
   "execution_count": 218,
   "metadata": {},
   "outputs": [],
   "source": [
    "spotify = SpotifySearch(creds=oauth_creds)"
   ]
  },
  {
   "cell_type": "code",
   "execution_count": 219,
   "metadata": {},
   "outputs": [
    {
     "data": {
      "text/plain": [
       "{'id': '7FqCCwSi3cWdbTUVpBOmIP',\n",
       " 'name': 'Running',\n",
       " 'uri': 'spotify:playlist:7FqCCwSi3cWdbTUVpBOmIP'}"
      ]
     },
     "execution_count": 219,
     "metadata": {},
     "output_type": "execute_result"
    }
   ],
   "source": [
    "spotify.get_playlist('Running')"
   ]
  }
 ],
 "metadata": {
  "kernelspec": {
   "display_name": "Python 3",
   "language": "python",
   "name": "python3"
  },
  "language_info": {
   "codemirror_mode": {
    "name": "ipython",
    "version": 3
   },
   "file_extension": ".py",
   "mimetype": "text/x-python",
   "name": "python",
   "nbconvert_exporter": "python",
   "pygments_lexer": "ipython3",
   "version": "3.7.3"
  }
 },
 "nbformat": 4,
 "nbformat_minor": 2
}
