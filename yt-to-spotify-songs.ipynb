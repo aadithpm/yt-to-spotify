{
 "cells": [
  {
   "cell_type": "code",
   "execution_count": 17,
   "metadata": {},
   "outputs": [],
   "source": [
    "import re"
   ]
  },
  {
   "cell_type": "code",
   "execution_count": 4,
   "metadata": {},
   "outputs": [],
   "source": [
    "sample_titles = [\n",
    "    #\n",
    "    # (channel_name, video_title)\n",
    "    #\n",
    "    \n",
    "    ('Juice WRLD', 'Juice WRLD & The Weeknd - Smile (Official Video)'),\n",
    "    ('Drake', 'Laugh Now Cry Later'),\n",
    "    ('Stone Music Entertainment', \"ATEEZ (에이티즈) - 'INCEPTION' MV\"),\n",
    "    ('MrSuicideSheep', 'Stonefox - The Garden')\n",
    "]"
   ]
  },
  {
   "cell_type": "markdown",
   "metadata": {},
   "source": [
    "#### Objective\n",
    "\n",
    "Providing channel name & video title to this class should produce search query(ies) that our `SpotifySearch` uses. Maximise result accuracy.\n",
    "\n",
    "\n",
    "Accurate result is defined as a perfect match for the song on Spotify **or** no match if the exact song is not on Spotify."
   ]
  },
  {
   "cell_type": "code",
   "execution_count": 13,
   "metadata": {},
   "outputs": [],
   "source": [
    "def split_title(song_tuple):\n",
    "    \"\"\"\n",
    "    Split by hyphen\n",
    "    \"\"\"\n",
    "    return [i.strip().lower() for i in song_tuple[1].split('-')]"
   ]
  },
  {
   "cell_type": "code",
   "execution_count": 14,
   "metadata": {},
   "outputs": [],
   "source": [
    "def simple_split(song_tuple):\n",
    "    \"\"\"\n",
    "    Simple split - assume artist name and song name in video title and split by hyphen\n",
    "    \"\"\"\n",
    "    return ' '.join(split_title(song_tuple))"
   ]
  },
  {
   "cell_type": "code",
   "execution_count": 26,
   "metadata": {},
   "outputs": [],
   "source": [
    "def simple_only_words_split(song_tuple):\n",
    "    \"\"\"\n",
    "    Simple split with no special characters (brackets, colons, etc.)\n",
    "    \"\"\"\n",
    "    regex = r'[@_!#$%^&*()<>?/\\|}{~:\\'\\\"]'\n",
    "    res = []\n",
    "    for word in split_title(song_tuple):\n",
    "        word = re.sub(regex, '', word)\n",
    "        res.append(word.strip())\n",
    "    return ' '.join(res)"
   ]
  },
  {
   "cell_type": "markdown",
   "metadata": {},
   "source": [
    "----"
   ]
  },
  {
   "cell_type": "code",
   "execution_count": 36,
   "metadata": {},
   "outputs": [],
   "source": [
    "STOPWORDS = [\n",
    "    'official',\n",
    "    'video',\n",
    "    'mv',\n",
    "    'ft.',\n",
    "    'exclusive',\n",
    "]"
   ]
  },
  {
   "cell_type": "code",
   "execution_count": 37,
   "metadata": {},
   "outputs": [],
   "source": [
    "def stopword_removal(title_string, stopwords=STOPWORDS):\n",
    "    \"\"\"\n",
    "    Removes stopwords from a string\n",
    "    \"\"\"\n",
    "    return ' '.join(list(filter(lambda x: x not in stopwords, title_string.split())))"
   ]
  },
  {
   "cell_type": "markdown",
   "metadata": {},
   "source": [
    "----"
   ]
  },
  {
   "cell_type": "code",
   "execution_count": 47,
   "metadata": {},
   "outputs": [],
   "source": [
    "def add_channel_title(song_tuple, base_generator=simple_only_words_split):\n",
    "    \"\"\"\n",
    "    Adds channel title to the song title and returns. Useful for cases where the artist posts a song \n",
    "    without their name in the title\n",
    "    \"\"\"\n",
    "    return ' '.join([song_tuple[0].lower(), base_generator(song_tuple)])"
   ]
  },
  {
   "cell_type": "markdown",
   "metadata": {},
   "source": [
    "----"
   ]
  },
  {
   "cell_type": "code",
   "execution_count": 36,
   "metadata": {},
   "outputs": [],
   "source": [
    "STOPWORDS = [\n",
    "    'official',\n",
    "    'video',\n",
    "    'mv',\n",
    "    'ft.',\n",
    "    'exclusive',\n",
    "]"
   ]
  },
  {
   "cell_type": "code",
   "execution_count": 37,
   "metadata": {},
   "outputs": [],
   "source": [
    "def stopword_removal(title_string, stopwords=STOPWORDS):\n",
    "    \"\"\"\n",
    "    Removes stopwords from a string\n",
    "    \"\"\"\n",
    "    return ' '.join(list(filter(lambda x: x not in stopwords, title_string.split())))"
   ]
  },
  {
   "cell_type": "markdown",
   "metadata": {},
   "source": [
    "----"
   ]
  },
  {
   "cell_type": "code",
   "execution_count": 50,
   "metadata": {},
   "outputs": [],
   "source": [
    "def generate_queries(song_tuple):\n",
    "    \"\"\"\n",
    "    Genereates queries for a song tuple of (artist, video title)\n",
    "    \"\"\"\n",
    "    queries = []\n",
    "\n",
    "    generators = [\n",
    "        add_channel_title,\n",
    "        simple_only_words_split,\n",
    "        simple_split,\n",
    "    ]\n",
    "    modifiers = [\n",
    "        stopword_removal,\n",
    "    ]\n",
    "\n",
    "    for generator in generators:\n",
    "        for modifier in modifiers:\n",
    "            queries.append(\n",
    "                modifier(\n",
    "                    generator(song_tuple)\n",
    "                )\n",
    "            )\n",
    "\n",
    "    return queries"
   ]
  },
  {
   "cell_type": "code",
   "execution_count": 51,
   "metadata": {},
   "outputs": [
    {
     "data": {
      "text/plain": [
       "[['juice wrld juice wrld the weeknd smile',\n",
       "  'juice wrld the weeknd smile',\n",
       "  'juice wrld & the weeknd smile (official video)'],\n",
       " ['drake laugh now cry later', 'laugh now cry later', 'laugh now cry later'],\n",
       " ['stone music entertainment ateez 에이티즈 inception',\n",
       "  'ateez 에이티즈 inception',\n",
       "  \"ateez (에이티즈) 'inception'\"],\n",
       " ['mrsuicidesheep stonefox the garden',\n",
       "  'stonefox the garden',\n",
       "  'stonefox the garden']]"
      ]
     },
     "execution_count": 51,
     "metadata": {},
     "output_type": "execute_result"
    }
   ],
   "source": [
    "res = map(generate_queries, sample_titles)\n",
    "list(res)"
   ]
  }
 ],
 "metadata": {
  "kernelspec": {
   "display_name": "Python 3",
   "language": "python",
   "name": "python3"
  },
  "language_info": {
   "codemirror_mode": {
    "name": "ipython",
    "version": 3
   },
   "file_extension": ".py",
   "mimetype": "text/x-python",
   "name": "python",
   "nbconvert_exporter": "python",
   "pygments_lexer": "ipython3",
   "version": "3.7.3"
  }
 },
 "nbformat": 4,
 "nbformat_minor": 2
}
