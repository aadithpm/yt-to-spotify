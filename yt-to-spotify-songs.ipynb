{
 "cells": [
  {
   "cell_type": "code",
   "execution_count": 4,
   "metadata": {},
   "outputs": [],
   "source": [
    "sample_titles = [\n",
    "    #\n",
    "    # (channel_name, video_title)\n",
    "    #\n",
    "    \n",
    "    ('Juice WRLD', 'Juice WRLD & The Weeknd - Smile (Official Video)'),\n",
    "    ('Drake', 'Laugh Now Cry Later'),\n",
    "    ('Stone Music Entertainment', \"ATEEZ (에이티즈) - 'INCEPTION' MV\"),\n",
    "    ('MrSuicideSheep', 'Stonefox - The Garden')\n",
    "]"
   ]
  },
  {
   "cell_type": "markdown",
   "metadata": {},
   "source": [
    "#### Objective\n",
    "\n",
    "Providing channel name & video title to this class should produce search query(ies) that our `SpotifySearch` uses. Maximise result accuracy.\n",
    "\n",
    "\n",
    "Accurate result is defined as a perfect match for the song on Spotify **or** no match if the exact song is not on Spotify."
   ]
  },
  {
   "cell_type": "code",
   "execution_count": null,
   "metadata": {},
   "outputs": [],
   "source": [
    "def simple_spl"
   ]
  },
  {
   "cell_type": "code",
   "execution_count": 5,
   "metadata": {},
   "outputs": [],
   "source": [
    "def generate_queries(song_tuple):\n",
    "    \"\"\"\n",
    "    Genereates queries for a song tuple of (artist, video title)\n",
    "    \"\"\"\n",
    "    queries = []\n",
    "    \n",
    "    generators = [\n",
    "        simple_split,\n",
    "    ] \n",
    "    for generator in generators:\n",
    "        queries.append(generator(song_tuple))\n",
    "    \n",
    "    return queries"
   ]
  }
 ],
 "metadata": {
  "kernelspec": {
   "display_name": "Python 3",
   "language": "python",
   "name": "python3"
  },
  "language_info": {
   "codemirror_mode": {
    "name": "ipython",
    "version": 3
   },
   "file_extension": ".py",
   "mimetype": "text/x-python",
   "name": "python",
   "nbconvert_exporter": "python",
   "pygments_lexer": "ipython3",
   "version": "3.7.3"
  }
 },
 "nbformat": 4,
 "nbformat_minor": 2
}
