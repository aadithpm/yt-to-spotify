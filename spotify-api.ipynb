{
 "cells": [
  {
   "cell_type": "markdown",
   "metadata": {},
   "source": [
    "### Exporting keys"
   ]
  },
  {
   "cell_type": "code",
   "execution_count": 29,
   "metadata": {},
   "outputs": [],
   "source": [
    "import configparser\n",
    "import os"
   ]
  },
  {
   "cell_type": "code",
   "execution_count": 30,
   "metadata": {},
   "outputs": [],
   "source": [
    "config_file = 'keys.cfg'"
   ]
  },
  {
   "cell_type": "code",
   "execution_count": 164,
   "metadata": {},
   "outputs": [
    {
     "data": {
      "text/plain": [
       "['keys.cfg']"
      ]
     },
     "execution_count": 164,
     "metadata": {},
     "output_type": "execute_result"
    }
   ],
   "source": [
    "config = configparser.ConfigParser()\n",
    "config.read(config_file)"
   ]
  },
  {
   "cell_type": "code",
   "execution_count": 167,
   "metadata": {},
   "outputs": [],
   "source": [
    "os.environ['SPOTIPY_CLIENT_ID'] = config['SPOTIFY']['CLIENT_ID']\n",
    "os.environ['SPOTIPY_CLIENT_SECRET'] = config['SPOTIFY']['CLIENT_SECRET']\n",
    "os.environ['SPOTIPY_REDIRECT_URI'] = 'https://5e318e279fe5.ngrok.io'\n",
    "\n",
    "# NOTE: this is a hacky workaround since this is just an application for private use. Not a best practise\n",
    "os.environ['OAUTH_CODE'] = config['SPOTIFY']['OAUTH_CODE']"
   ]
  },
  {
   "cell_type": "markdown",
   "metadata": {},
   "source": [
    "### Spotify searching"
   ]
  },
  {
   "cell_type": "markdown",
   "metadata": {},
   "source": [
    "#### Workaround for getting an OAuth 2.0 access and refresh token\n",
    "\n",
    "* Write a simple server application that listens on a port\n",
    "* Use `ngrok` to tunnel requests to that port\n",
    "* Set `ngrok` URL as the redirect URI on Spotify API Dashboard\n",
    "* Use the code returned to get access and refresh tokens"
   ]
  },
  {
   "cell_type": "code",
   "execution_count": 308,
   "metadata": {},
   "outputs": [],
   "source": [
    "import spotipy\n",
    "from spotipy.oauth2 import SpotifyClientCredentials, SpotifyOauthError\n",
    "\n",
    "class SpotifySearch:\n",
    "    def __init__(self, creds=None):\n",
    "        \"\"\"\n",
    "        Use OAuth creds if passed else a client with only API keys\n",
    "        \"\"\"\n",
    "        self.spotipy = spotipy.Spotify(auth_manager=SpotifyClientCredentials())\n",
    "        if creds:\n",
    "            self.spotipy = spotipy.Spotify(auth_manager=creds)\n",
    "\n",
    "    def search(self, search_query):\n",
    "        \"\"\"\n",
    "        Search through Spotify search API and return results\n",
    "        \"\"\"\n",
    "        return self.spotipy.search(search_query)\n",
    "\n",
    "    def this_user_id(self):\n",
    "        \"\"\"\n",
    "        Get ID of current user - tied to OAuth\n",
    "        \"\"\"\n",
    "        return self.spotipy.me()['id']    \n",
    "\n",
    "    def get_first_track_extended(self, search_query):\n",
    "        \"\"\"\n",
    "        Returns uri, api_url, id and url of first result for a specific search query\n",
    "        \"\"\"\n",
    "        results = self.search(search_query)\n",
    "        res = {}\n",
    "        if len(results) > 0:\n",
    "            first = results['tracks']['items'][0]\n",
    "            res['url'] = first['external_urls']['spotify']\n",
    "            res['api_url'] = first['href']\n",
    "            res['uri'] = first['uri']\n",
    "            res['id'] = first['id']\n",
    "        return res\n",
    "\n",
    "    def get_playlist_extended(self, playlist_name):\n",
    "        \"\"\"\n",
    "        Return playlist details that match a specific playlist name and is owned by the user\n",
    "        \"\"\"\n",
    "        playlists = self.spotipy.current_user_playlists()['items']\n",
    "        username = self.spotipy.me()['display_name']\n",
    "\n",
    "        playlist_store = {}\n",
    "        for playlist in playlists:\n",
    "            if playlist['name'] == playlist_name and playlist['owner']['display_name'] == username:\n",
    "                playlist_store = playlist\n",
    "                break\n",
    "\n",
    "        if len(playlist_store) > 0:\n",
    "            return {\n",
    "                'id': playlist_store['id'],\n",
    "                'name': playlist_store['name'],\n",
    "                'uri': playlist_store['uri'],\n",
    "            }\n",
    "\n",
    "        return {}\n",
    "\n",
    "    def get_first_uri(self, search_query):\n",
    "        \"\"\"\n",
    "        Return first uri from results for a specific search query\n",
    "        \"\"\"\n",
    "        try:\n",
    "            return self.get_first_track_extended(search_query=search_query)['uri']\n",
    "        except KeyError as e:\n",
    "            print(f'[error] URLs/URIs not found for {search_query}')\n",
    "            return {}\n",
    "\n",
    "    def get_playlist_id(self, playlist_name):\n",
    "        \"\"\"\n",
    "        Return ID for a specific playlist if exists and is owned by user\n",
    "        \"\"\"\n",
    "        try:\n",
    "            return self.get_playlist_extended(playlist_name=playlist_name)['id']\n",
    "        except KeyError as e:\n",
    "            print(f'[error] Playlist not found for {playlist_name}')\n",
    "            return {}\n",
    "\n",
    "    def add_to_playlist(self, playlist, track_uris):\n",
    "        \"\"\"\n",
    "        Add track(s) to a playlist\n",
    "        \"\"\"\n",
    "        self.spotipy.user_playlist_add_tracks(\n",
    "            user=self.this_user_id(),\n",
    "            playlist_id=playlist,\n",
    "            tracks=track_uris\n",
    "        )\n"
   ]
  },
  {
   "cell_type": "markdown",
   "metadata": {},
   "source": [
    "## Set OAuth and initialize search class"
   ]
  },
  {
   "cell_type": "code",
   "execution_count": 293,
   "metadata": {},
   "outputs": [],
   "source": [
    "scopes = [\n",
    "    'playlist-modify-public', 'playlist-modify-private',\n",
    "    'playlist-read-collaborative', 'playlist-read-private',\n",
    "    'user-library-read', 'user-library-modify'\n",
    "]\n",
    "scope = ' '.join(scopes)"
   ]
  },
  {
   "cell_type": "code",
   "execution_count": 294,
   "metadata": {},
   "outputs": [],
   "source": [
    "from spotipy.oauth2 import SpotifyOAuth\n",
    "oauth_creds = SpotifyOAuth(scope=scope, username='aadithpm')"
   ]
  },
  {
   "cell_type": "code",
   "execution_count": 309,
   "metadata": {},
   "outputs": [],
   "source": [
    "spotify = SpotifySearch(creds=oauth_creds)"
   ]
  },
  {
   "cell_type": "markdown",
   "metadata": {},
   "source": [
    "## Testing `SpotifySearch`"
   ]
  },
  {
   "cell_type": "code",
   "execution_count": 310,
   "metadata": {},
   "outputs": [
    {
     "data": {
      "text/plain": [
       "{'id': '7FqCCwSi3cWdbTUVpBOmIP',\n",
       " 'name': 'Running',\n",
       " 'uri': 'spotify:playlist:7FqCCwSi3cWdbTUVpBOmIP'}"
      ]
     },
     "execution_count": 310,
     "metadata": {},
     "output_type": "execute_result"
    }
   ],
   "source": [
    "spotify.get_playlist_extended('Running')"
   ]
  },
  {
   "cell_type": "code",
   "execution_count": 311,
   "metadata": {},
   "outputs": [
    {
     "data": {
      "text/plain": [
       "'spotify:track:75scDPqGs75FotglJSoOI2'"
      ]
     },
     "execution_count": 311,
     "metadata": {},
     "output_type": "execute_result"
    }
   ],
   "source": [
    "track = spotify.get_first_uri('bts mic drop')\n",
    "track"
   ]
  },
  {
   "cell_type": "code",
   "execution_count": 312,
   "metadata": {},
   "outputs": [
    {
     "data": {
      "text/plain": [
       "'2J3QAUvsQISpVfl03hlNLL'"
      ]
     },
     "execution_count": 312,
     "metadata": {},
     "output_type": "execute_result"
    }
   ],
   "source": [
    "playlist = spotify.get_playlist_id('Korean')\n",
    "playlist"
   ]
  },
  {
   "cell_type": "code",
   "execution_count": 313,
   "metadata": {},
   "outputs": [],
   "source": [
    "tracks = [\n",
    "    track,\n",
    "]\n",
    "spotify.add_to_playlist(playlist, tracks)"
   ]
  }
 ],
 "metadata": {
  "kernelspec": {
   "display_name": "Python 3",
   "language": "python",
   "name": "python3"
  },
  "language_info": {
   "codemirror_mode": {
    "name": "ipython",
    "version": 3
   },
   "file_extension": ".py",
   "mimetype": "text/x-python",
   "name": "python",
   "nbconvert_exporter": "python",
   "pygments_lexer": "ipython3",
   "version": "3.7.3"
  }
 },
 "nbformat": 4,
 "nbformat_minor": 2
}
